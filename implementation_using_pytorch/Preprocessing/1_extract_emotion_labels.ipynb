{
 "cells": [
  {
   "attachments": {},
   "cell_type": "markdown",
   "metadata": {},
   "source": [
    "<h1>Extracting labels from the evaluation files</h1>"
   ]
  },
  {
   "cell_type": "code",
   "execution_count": 2,
   "metadata": {},
   "outputs": [
    {
     "name": "stdout",
     "output_type": "stream",
     "text": [
      "['[START_TIME - END_TIME] TURN_NAME EMOTION [V, A, D]\\n', '[6.2901 - 8.2357]\\tSes01F_impro01_F000\\tneu\\t[2.5000, 2.5000, 2.5000]\\n', '[10.0100 - 11.3925]\\tSes01F_impro01_F001\\tneu\\t[2.5000, 2.5000, 2.5000]\\n', '[14.8872 - 18.0175]\\tSes01F_impro01_F002\\tneu\\t[2.5000, 2.5000, 2.5000]\\n', '[19.2900 - 20.7875]\\tSes01F_impro01_F003\\txxx\\t[2.5000, 3.0000, 3.0000]\\n', '[21.3257 - 24.7400]\\tSes01F_impro01_F004\\txxx\\t[2.5000, 3.0000, 2.5000]\\n', '[27.4600 - 31.4900]\\tSes01F_impro01_F005\\tneu\\t[2.5000, 3.5000, 2.0000]\\n', '[38.9650 - 43.5900]\\tSes01F_impro01_F006\\tfru\\t[2.0000, 3.5000, 3.5000]\\n', '[46.5800 - 52.1900]\\tSes01F_impro01_F007\\tfru\\t[2.5000, 3.5000, 3.5000]\\n', '[56.1600 - 58.8225]\\tSes01F_impro01_F008\\tfru\\t[2.0000, 3.5000, 3.5000]\\n', '[61.8700 - 65.9700]\\tSes01F_impro01_F009\\tfru\\t[2.0000, 3.5000, 3.0000]\\n', '[66.4200 - 69.3400]\\tSes01F_impro01_F010\\txxx\\t[1.5000, 3.5000, 3.5000]\\n', '[72.4500 - 82.2600]\\tSes01F_impro01_F011\\tfru\\t[2.0000, 3.5000, 3.5000]\\n', '[85.2700 - 88.0200]\\tSes01F_impro01_F012\\tang\\t[2.0000, 3.5000, 3.5000]\\n', '[93.6700 - 97.0218]\\tSes01F_impro01_F013\\tfru\\t[2.0000, 4.0000, 3.5000]\\n', '[97.8900 - 102.9600]\\tSes01F_impro01_F014\\tneu\\t[2.5000, 3.5000, 3.5000]\\n', '[103.9700 - 106.7100]\\tSes01F_impro01_F015\\tfru\\t[2.0000, 3.5000, 3.0000]\\n', '[7.5712 - 10.4750]\\tSes01F_impro01_M000\\tfru\\t[2.5000, 2.0000, 2.5000]\\n', '[10.9266 - 14.6649]\\tSes01F_impro01_M001\\tfru\\t[2.5000, 2.0000, 2.5000]\\n', '[16.8352 - 19.7175]\\tSes01F_impro01_M002\\tfru\\t[2.0000, 3.5000, 3.5000]\\n', '[23.4700 - 28.0300]\\tSes01F_impro01_M003\\tfru\\t[2.5000, 3.5000, 3.5000]\\n', '[28.3950 - 31.2117]\\tSes01F_impro01_M004\\tfru\\t[2.0000, 4.0000, 3.5000]\\n', '[31.2660 - 39.3875]\\tSes01F_impro01_M005\\tfru\\t[2.0000, 3.5000, 3.5000]\\n', '[41.2300 - 46.9800]\\tSes01F_impro01_M006\\tfru\\t[2.0000, 3.5000, 3.5000]\\n', '[51.4000 - 57.6400]\\tSes01F_impro01_M007\\tfru\\t[2.5000, 3.5000, 3.0000]\\n', '[58.1800 - 62.5900]\\tSes01F_impro01_M008\\tfru\\t[2.0000, 3.5000, 3.5000]\\n', '[65.5100 - 73.0000]\\tSes01F_impro01_M009\\tfru\\t[2.5000, 3.5000, 4.0000]\\n', '[81.5900 - 86.0300]\\tSes01F_impro01_M010\\tfru\\t[2.0000, 4.5000, 4.0000]\\n', '[87.1500 - 94.3900]\\tSes01F_impro01_M011\\tang\\t[2.0000, 4.0000, 4.0000]\\n', '[95.8600 - 98.6800]\\tSes01F_impro01_M012\\txxx\\t[3.0000, 1.5000, 2.0000]\\n', '[101.8400 - 107.8700]\\tSes01F_impro01_M013\\tang\\t[2.0000, 4.5000, 4.5000]\\n']\n"
     ]
    }
   ],
   "source": [
    "import re\n",
    "\n",
    "file_path = '../../IEMOCAP_full_release/Session1/dialog/EmoEvaluation/Ses01F_impro01.txt'\n",
    "\n",
    "useful_regex = re.compile(r'\\[.+\\]\\n', re.IGNORECASE)\n",
    "\n",
    "with open(file_path) as f:\n",
    "    file_content = f.read()\n",
    "\n",
    "info_lines = re.findall(useful_regex, file_content)\n",
    "\n",
    "print(info_lines)"
   ]
  },
  {
   "cell_type": "code",
   "execution_count": 3,
   "metadata": {},
   "outputs": [
    {
     "name": "stdout",
     "output_type": "stream",
     "text": [
      "['[START_TIME - END_TIME] TURN_NAME EMOTION [V, A, D]']\n",
      "['[6.2901 - 8.2357]', 'Ses01F_impro01_F000', 'neu', '[2.5000, 2.5000, 2.5000]']\n",
      "['[10.0100 - 11.3925]', 'Ses01F_impro01_F001', 'neu', '[2.5000, 2.5000, 2.5000]']\n",
      "['[14.8872 - 18.0175]', 'Ses01F_impro01_F002', 'neu', '[2.5000, 2.5000, 2.5000]']\n",
      "['[19.2900 - 20.7875]', 'Ses01F_impro01_F003', 'xxx', '[2.5000, 3.0000, 3.0000]']\n",
      "['[21.3257 - 24.7400]', 'Ses01F_impro01_F004', 'xxx', '[2.5000, 3.0000, 2.5000]']\n",
      "['[27.4600 - 31.4900]', 'Ses01F_impro01_F005', 'neu', '[2.5000, 3.5000, 2.0000]']\n",
      "['[38.9650 - 43.5900]', 'Ses01F_impro01_F006', 'fru', '[2.0000, 3.5000, 3.5000]']\n",
      "['[46.5800 - 52.1900]', 'Ses01F_impro01_F007', 'fru', '[2.5000, 3.5000, 3.5000]']\n",
      "['[56.1600 - 58.8225]', 'Ses01F_impro01_F008', 'fru', '[2.0000, 3.5000, 3.5000]']\n",
      "['[61.8700 - 65.9700]', 'Ses01F_impro01_F009', 'fru', '[2.0000, 3.5000, 3.0000]']\n",
      "['[66.4200 - 69.3400]', 'Ses01F_impro01_F010', 'xxx', '[1.5000, 3.5000, 3.5000]']\n",
      "['[72.4500 - 82.2600]', 'Ses01F_impro01_F011', 'fru', '[2.0000, 3.5000, 3.5000]']\n",
      "['[85.2700 - 88.0200]', 'Ses01F_impro01_F012', 'ang', '[2.0000, 3.5000, 3.5000]']\n",
      "['[93.6700 - 97.0218]', 'Ses01F_impro01_F013', 'fru', '[2.0000, 4.0000, 3.5000]']\n",
      "['[97.8900 - 102.9600]', 'Ses01F_impro01_F014', 'neu', '[2.5000, 3.5000, 3.5000]']\n",
      "['[103.9700 - 106.7100]', 'Ses01F_impro01_F015', 'fru', '[2.0000, 3.5000, 3.0000]']\n",
      "['[7.5712 - 10.4750]', 'Ses01F_impro01_M000', 'fru', '[2.5000, 2.0000, 2.5000]']\n",
      "['[10.9266 - 14.6649]', 'Ses01F_impro01_M001', 'fru', '[2.5000, 2.0000, 2.5000]']\n",
      "['[16.8352 - 19.7175]', 'Ses01F_impro01_M002', 'fru', '[2.0000, 3.5000, 3.5000]']\n",
      "['[23.4700 - 28.0300]', 'Ses01F_impro01_M003', 'fru', '[2.5000, 3.5000, 3.5000]']\n",
      "['[28.3950 - 31.2117]', 'Ses01F_impro01_M004', 'fru', '[2.0000, 4.0000, 3.5000]']\n",
      "['[31.2660 - 39.3875]', 'Ses01F_impro01_M005', 'fru', '[2.0000, 3.5000, 3.5000]']\n",
      "['[41.2300 - 46.9800]', 'Ses01F_impro01_M006', 'fru', '[2.0000, 3.5000, 3.5000]']\n",
      "['[51.4000 - 57.6400]', 'Ses01F_impro01_M007', 'fru', '[2.5000, 3.5000, 3.0000]']\n",
      "['[58.1800 - 62.5900]', 'Ses01F_impro01_M008', 'fru', '[2.0000, 3.5000, 3.5000]']\n",
      "['[65.5100 - 73.0000]', 'Ses01F_impro01_M009', 'fru', '[2.5000, 3.5000, 4.0000]']\n",
      "['[81.5900 - 86.0300]', 'Ses01F_impro01_M010', 'fru', '[2.0000, 4.5000, 4.0000]']\n",
      "['[87.1500 - 94.3900]', 'Ses01F_impro01_M011', 'ang', '[2.0000, 4.0000, 4.0000]']\n",
      "['[95.8600 - 98.6800]', 'Ses01F_impro01_M012', 'xxx', '[3.0000, 1.5000, 2.0000]']\n",
      "['[101.8400 - 107.8700]', 'Ses01F_impro01_M013', 'ang', '[2.0000, 4.5000, 4.5000]']\n"
     ]
    }
   ],
   "source": [
    "for l in info_lines[0:100]:\n",
    "    print(l.strip().split('\\t'))"
   ]
  },
  {
   "attachments": {},
   "cell_type": "markdown",
   "metadata": {},
   "source": [
    "<h1>Compile all the informarion in a single file</h1>"
   ]
  },
  {
   "cell_type": "code",
   "execution_count": 4,
   "metadata": {},
   "outputs": [],
   "source": [
    "import re\n",
    "import os\n",
    "\n",
    "\n",
    "info_line = re.compile(r'\\[.+\\]\\n', re.IGNORECASE)\n",
    "\n",
    "start_times, end_times, wav_file_names, emotions, vals, acts, doms = [], [], [], [], [], [], []\n",
    "\n",
    "for sess in range(1, 6):\n",
    "    emo_evaluation_dir = '../../IEMOCAP_full_release/Session{}/dialog/EmoEvaluation/'.format(sess)\n",
    "    evaluation_files = [l for l in os.listdir(emo_evaluation_dir) if 'Ses' in l]\n",
    "    for file in evaluation_files:\n",
    "        with open(emo_evaluation_dir + file) as f:\n",
    "            content = f.read()\n",
    "        info_lines = re.findall(info_line, content)\n",
    "        for line in info_lines[1:]:  # the first line is a header\n",
    "            start_end_time, wav_file_name, emotion, val_act_dom = line.strip().split('\\t')\n",
    "            start_time, end_time = start_end_time[1:-1].split('-')\n",
    "            val, act, dom = val_act_dom[1:-1].split(',')\n",
    "            val, act, dom = float(val), float(act), float(dom)\n",
    "            start_time, end_time = float(start_time), float(end_time)\n",
    "            start_times.append(start_time)\n",
    "            end_times.append(end_time)\n",
    "            wav_file_names.append(wav_file_name)\n",
    "            emotions.append(emotion)\n",
    "            vals.append(val)\n",
    "            acts.append(act)\n",
    "            doms.append(dom)"
   ]
  },
  {
   "cell_type": "code",
   "execution_count": 5,
   "metadata": {},
   "outputs": [
    {
     "data": {
      "text/html": [
       "<div>\n",
       "<style scoped>\n",
       "    .dataframe tbody tr th:only-of-type {\n",
       "        vertical-align: middle;\n",
       "    }\n",
       "\n",
       "    .dataframe tbody tr th {\n",
       "        vertical-align: top;\n",
       "    }\n",
       "\n",
       "    .dataframe thead th {\n",
       "        text-align: right;\n",
       "    }\n",
       "</style>\n",
       "<table border=\"1\" class=\"dataframe\">\n",
       "  <thead>\n",
       "    <tr style=\"text-align: right;\">\n",
       "      <th></th>\n",
       "      <th>start_time</th>\n",
       "      <th>end_time</th>\n",
       "      <th>wav_file</th>\n",
       "      <th>emotion</th>\n",
       "      <th>val</th>\n",
       "      <th>act</th>\n",
       "      <th>dom</th>\n",
       "    </tr>\n",
       "  </thead>\n",
       "  <tbody>\n",
       "    <tr>\n",
       "      <th>10034</th>\n",
       "      <td>195.67</td>\n",
       "      <td>221.9</td>\n",
       "      <td>Ses05M_impro03_M029</td>\n",
       "      <td>exc</td>\n",
       "      <td>3.6667</td>\n",
       "      <td>3.6667</td>\n",
       "      <td>2.6667</td>\n",
       "    </tr>\n",
       "    <tr>\n",
       "      <th>10035</th>\n",
       "      <td>203.19</td>\n",
       "      <td>221.9</td>\n",
       "      <td>Ses05M_impro03_M030</td>\n",
       "      <td>hap</td>\n",
       "      <td>3.6667</td>\n",
       "      <td>3.6667</td>\n",
       "      <td>2.6667</td>\n",
       "    </tr>\n",
       "    <tr>\n",
       "      <th>10036</th>\n",
       "      <td>210.58</td>\n",
       "      <td>221.9</td>\n",
       "      <td>Ses05M_impro03_M031</td>\n",
       "      <td>hap</td>\n",
       "      <td>4.0000</td>\n",
       "      <td>3.6667</td>\n",
       "      <td>2.6667</td>\n",
       "    </tr>\n",
       "    <tr>\n",
       "      <th>10037</th>\n",
       "      <td>215.30</td>\n",
       "      <td>221.9</td>\n",
       "      <td>Ses05M_impro03_M032</td>\n",
       "      <td>hap</td>\n",
       "      <td>4.3333</td>\n",
       "      <td>3.6667</td>\n",
       "      <td>3.0000</td>\n",
       "    </tr>\n",
       "    <tr>\n",
       "      <th>10038</th>\n",
       "      <td>219.75</td>\n",
       "      <td>221.9</td>\n",
       "      <td>Ses05M_impro03_M033</td>\n",
       "      <td>hap</td>\n",
       "      <td>4.6667</td>\n",
       "      <td>3.3333</td>\n",
       "      <td>3.0000</td>\n",
       "    </tr>\n",
       "  </tbody>\n",
       "</table>\n",
       "</div>"
      ],
      "text/plain": [
       "       start_time  end_time             wav_file emotion     val     act  \\\n",
       "10034      195.67     221.9  Ses05M_impro03_M029     exc  3.6667  3.6667   \n",
       "10035      203.19     221.9  Ses05M_impro03_M030     hap  3.6667  3.6667   \n",
       "10036      210.58     221.9  Ses05M_impro03_M031     hap  4.0000  3.6667   \n",
       "10037      215.30     221.9  Ses05M_impro03_M032     hap  4.3333  3.6667   \n",
       "10038      219.75     221.9  Ses05M_impro03_M033     hap  4.6667  3.3333   \n",
       "\n",
       "          dom  \n",
       "10034  2.6667  \n",
       "10035  2.6667  \n",
       "10036  2.6667  \n",
       "10037  3.0000  \n",
       "10038  3.0000  "
      ]
     },
     "execution_count": 5,
     "metadata": {},
     "output_type": "execute_result"
    }
   ],
   "source": [
    "import pandas as pd\n",
    "\n",
    "df_iemocap = pd.DataFrame(columns=['start_time', 'end_time', 'wav_file', 'emotion', 'val', 'act', 'dom'])\n",
    "\n",
    "df_iemocap['start_time'] = start_times\n",
    "df_iemocap['end_time'] = end_time\n",
    "df_iemocap['wav_file'] = wav_file_names\n",
    "df_iemocap['emotion'] = emotions\n",
    "df_iemocap['val'] = vals\n",
    "df_iemocap['act'] = acts\n",
    "df_iemocap['dom'] = doms\n",
    "\n",
    "df_iemocap.tail()"
   ]
  },
  {
   "cell_type": "code",
   "execution_count": 6,
   "metadata": {},
   "outputs": [],
   "source": [
    "df_iemocap.to_csv('../../IEMOCAP_full_release/dialog_EmoEvaluation_labels.csv', index=False)"
   ]
  }
 ],
 "metadata": {
  "kernelspec": {
   "display_name": "base",
   "language": "python",
   "name": "python3"
  },
  "language_info": {
   "codemirror_mode": {
    "name": "ipython",
    "version": 3
   },
   "file_extension": ".py",
   "mimetype": "text/x-python",
   "name": "python",
   "nbconvert_exporter": "python",
   "pygments_lexer": "ipython3",
   "version": "3.9.13"
  },
  "orig_nbformat": 4
 },
 "nbformat": 4,
 "nbformat_minor": 2
}
